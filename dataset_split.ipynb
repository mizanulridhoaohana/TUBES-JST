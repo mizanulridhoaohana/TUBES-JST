{
 "cells": [
  {
   "cell_type": "markdown",
   "metadata": {},
   "source": [
    "### Data Split"
   ]
  },
  {
   "cell_type": "code",
   "execution_count": 24,
   "metadata": {},
   "outputs": [],
   "source": [
    "data_CORROSION_dir = 'data/CORROSION/'\n",
    "data_NOCORROSION_dir = 'data/NOCORROSION/'\n",
    "new_dir = 'split/'"
   ]
  },
  {
   "cell_type": "code",
   "execution_count": 25,
   "metadata": {},
   "outputs": [],
   "source": [
    "# Create objects that stores all the relevant images\n",
    "images_CORROSION = [file for file in os.listdir(data_CORROSION_dir) if file.endswith('.jpg')]\n",
    "images_NOCORROSION = [file for file in os.listdir(data_NOCORROSION_dir) if file.endswith('.jpg')]"
   ]
  },
  {
   "cell_type": "code",
   "execution_count": 26,
   "metadata": {},
   "outputs": [],
   "source": [
    "# Create a subfolder 'train' under the 'split'\n",
    "train_folder = os.path.join(new_dir, 'train')\n",
    "# Create subfolders 'train_NORMAL' and 'train_PNEUMONIA' under the 'train'\n",
    "train_CORROSION = os.path.join(train_folder, 'CORROSION')\n",
    "train_NOCORROSION = os.path.join(train_folder, 'NOCORROSION')\n",
    "#___________________________________________________________________________\n",
    "# Create a subfolder 'test' under the 'split'\n",
    "test_folder = os.path.join(new_dir, 'test')\n",
    "# Create subfolders 'test_NORMAL' and 'test_PNEUMONIA' under the 'test'\n",
    "test_CORROSION = os.path.join(test_folder, 'CORROSION')\n",
    "test_NOCORROSION = os.path.join(test_folder, 'NOCORROSION')\n",
    "#___________________________________________________________________________\n",
    "# Create a subfolder 'validation' under the 'split'\n",
    "val_folder = os.path.join(new_dir, 'validation')\n",
    "# # Create subfolders 'val_NORMAL' and 'val_PNEUMONIA' under the 'test'\n",
    "val_CORROSION = os.path.join(val_folder, 'CORROSION')\n",
    "val_NOCORROSION = os.path.join(val_folder, 'NOCORROSION')"
   ]
  },
  {
   "cell_type": "code",
   "execution_count": 29,
   "metadata": {},
   "outputs": [],
   "source": [
    "#Use all the path strings to make new directories\n",
    "os.mkdir(train_folder)\n",
    "os.mkdir(train_CORROSION)\n",
    "os.mkdir(train_NOCORROSION)\n",
    "\n",
    "os.mkdir(test_folder)\n",
    "os.mkdir(test_CORROSION)\n",
    "os.mkdir(test_NOCORROSION)\n",
    "\n",
    "os.mkdir(val_folder)\n",
    "os.mkdir(val_CORROSION)\n",
    "os.mkdir(val_NOCORROSION)"
   ]
  },
  {
   "cell_type": "code",
   "execution_count": 31,
   "metadata": {},
   "outputs": [],
   "source": [
    "#train CORROSION\n",
    "imgs = images_CORROSION[:693]\n",
    "for img in imgs:\n",
    "    origin = os.path.join(data_CORROSION_dir, img)\n",
    "    destination = os.path.join(train_CORROSION, img)\n",
    "    shutil.copyfile(origin, destination)\n",
    "# validation CORROSION\n",
    "imgs = images_CORROSION[693:891]\n",
    "for img in imgs:\n",
    "    origin = os.path.join(data_CORROSION_dir, img)\n",
    "    destination = os.path.join(val_CORROSION, img)\n",
    "    shutil.copyfile(origin, destination)\n",
    "# test CORROSION\n",
    "imgs = images_CORROSION[891:]\n",
    "for img in imgs:\n",
    "    origin = os.path.join(data_CORROSION_dir, img)\n",
    "    destination = os.path.join(test_CORROSION, img)\n",
    "    shutil.copyfile(origin, destination)"
   ]
  },
  {
   "cell_type": "code",
   "execution_count": 32,
   "metadata": {},
   "outputs": [],
   "source": [
    "# train NOCORROSION\n",
    "imgs = images_NOCORROSION\n",
    "for img in imgs[:580]:\n",
    "    origin = os.path.join(data_NOCORROSION_dir, img)\n",
    "    destination = os.path.join(train_NOCORROSION, img)\n",
    "    shutil.copyfile(origin, destination)\n",
    "# validation NOCORROSION\n",
    "imgs = images_NOCORROSION[580:746]\n",
    "for img in imgs:\n",
    "    origin = os.path.join(data_NOCORROSION_dir, img)\n",
    "    destination = os.path.join(val_NOCORROSION, img)\n",
    "    shutil.copyfile(origin, destination)\n",
    "# test NOCORROSION\n",
    "imgs = images_NOCORROSION[746:]\n",
    "for img in imgs:\n",
    "    origin = os.path.join(data_NOCORROSION_dir, img)\n",
    "    destination = os.path.join(test_NOCORROSION, img)\n",
    "    shutil.copyfile(origin, destination)"
   ]
  },
  {
   "cell_type": "code",
   "execution_count": 33,
   "metadata": {},
   "outputs": [
    {
     "name": "stdout",
     "output_type": "stream",
     "text": [
      "Number of images to train\n",
      "# train_CORROSION:  693\n",
      "# train_NOCORROSION:  580\n",
      "________________________________________________\n",
      "Number of images to validation\n",
      "# val_CORROSION:  198\n",
      "# val_NOCORROSION:  166\n",
      "________________________________________________\n",
      "Number of images to test\n",
      "# test_CORROSION:  99\n",
      "# test_NOCORROSION:  83\n"
     ]
    }
   ],
   "source": [
    "# Use a 70%/20%/10% split for train/validation/test\n",
    "print('Number of images to train')\n",
    "print('# train_CORROSION: ', round(len(images_CORROSION)*0.7))\n",
    "print('# train_NOCORROSION: ', round(len(images_NOCORROSION)*0.7))\n",
    "print('________________________________________________')\n",
    "print('Number of images to validation')\n",
    "print('# val_CORROSION: ', round(len(images_CORROSION)*0.2))\n",
    "print('# val_NOCORROSION: ', round(len(images_NOCORROSION)*0.2))\n",
    "print('________________________________________________')\n",
    "print('Number of images to test')\n",
    "print('# test_CORROSION: ', round(len(images_CORROSION)*0.1))\n",
    "print('# test_NOCORROSION: ', round(len(images_NOCORROSION)*0.1))"
   ]
  },
  {
   "cell_type": "markdown",
   "metadata": {},
   "source": []
  }
 ],
 "metadata": {
  "kernelspec": {
   "display_name": ".venv",
   "language": "python",
   "name": "python3"
  },
  "language_info": {
   "codemirror_mode": {
    "name": "ipython",
    "version": 3
   },
   "file_extension": ".py",
   "mimetype": "text/x-python",
   "name": "python",
   "nbconvert_exporter": "python",
   "pygments_lexer": "ipython3",
   "version": "3.10.12"
  }
 },
 "nbformat": 4,
 "nbformat_minor": 2
}
